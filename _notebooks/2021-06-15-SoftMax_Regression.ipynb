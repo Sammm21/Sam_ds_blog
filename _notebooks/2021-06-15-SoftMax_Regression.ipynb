{
  "nbformat": 4,
  "nbformat_minor": 0,
  "metadata": {
    "colab": {
      "name": "SoftMax and NN.ipynb",
      "provenance": [],
      "collapsed_sections": []
    },
    "kernelspec": {
      "display_name": "Python 3",
      "name": "python3"
    },
    "language_info": {
      "name": "python"
    }
  },
  "cells": [
    {
      "cell_type": "markdown",
      "metadata": {
        "id": "Kaai3xagQQAH"
      },
      "source": [
        "# Define The Approach:\n",
        "\n",
        "## Let's try 2 different approaches to classifying MNIST\n",
        "## 1. Softmax Regression\n",
        "## 2. Neural Network"
      ]
    },
    {
      "cell_type": "markdown",
      "metadata": {
        "id": "HgwYkSNBQTLK"
      },
      "source": [
        "### **Import packages**"
      ]
    },
    {
      "cell_type": "code",
      "metadata": {
        "colab": {
          "base_uri": "https://localhost:8080/"
        },
        "id": "PvSUrxgijNGv",
        "outputId": "72d3478d-a4e0-4819-f8d6-7985383917d6"
      },
      "source": [
        "import pandas as pd\n",
        "import torch\n",
        "from torch import Tensor\n",
        "# Run to make sure fastai runs in colab\n",
        "!pip install -Uqq fastbook\n",
        "import fastbook\n",
        "from fastbook import *\n",
        "from keras.utils.np_utils import to_categorical\n",
        "import time\n",
        "fastbook.setup_book()"
      ],
      "execution_count": null,
      "outputs": [
        {
          "output_type": "stream",
          "text": [
            "\u001b[K     |████████████████████████████████| 727kB 26.2MB/s \n",
            "\u001b[K     |████████████████████████████████| 1.2MB 20.5MB/s \n",
            "\u001b[K     |████████████████████████████████| 51kB 6.6MB/s \n",
            "\u001b[K     |████████████████████████████████| 204kB 41.2MB/s \n",
            "\u001b[K     |████████████████████████████████| 61kB 7.1MB/s \n",
            "\u001b[K     |████████████████████████████████| 61kB 7.4MB/s \n",
            "\u001b[?25hMounted at /content/gdrive\n"
          ],
          "name": "stdout"
        }
      ]
    },
    {
      "cell_type": "code",
      "metadata": {
        "colab": {
          "base_uri": "https://localhost:8080/",
          "height": 17
        },
        "id": "XqR0-ktjjhRf",
        "outputId": "691fdeb3-e007-4ced-a4bf-98f797029831"
      },
      "source": [
        "path = untar_data(URLs.MNIST)"
      ],
      "execution_count": null,
      "outputs": [
        {
          "output_type": "display_data",
          "data": {
            "text/html": [
              ""
            ],
            "text/plain": [
              "<IPython.core.display.HTML object>"
            ]
          },
          "metadata": {
            "tags": []
          }
        }
      ]
    },
    {
      "cell_type": "code",
      "metadata": {
        "id": "AWREnpZ2jp4H"
      },
      "source": [
        "Path.Base_PATH = path"
      ],
      "execution_count": null,
      "outputs": []
    },
    {
      "cell_type": "code",
      "metadata": {
        "colab": {
          "base_uri": "https://localhost:8080/"
        },
        "id": "qvUXgrNRjvJo",
        "outputId": "110d94f5-e43e-4baa-9a38-df343077e2c8"
      },
      "source": [
        "path.ls()"
      ],
      "execution_count": null,
      "outputs": [
        {
          "output_type": "execute_result",
          "data": {
            "text/plain": [
              "(#2) [Path('/root/.fastai/data/mnist_png/training'),Path('/root/.fastai/data/mnist_png/testing')]"
            ]
          },
          "metadata": {
            "tags": []
          },
          "execution_count": 4
        }
      ]
    },
    {
      "cell_type": "code",
      "metadata": {
        "colab": {
          "base_uri": "https://localhost:8080/"
        },
        "id": "UWRAfxFMjxF_",
        "outputId": "687e8830-0d34-40c5-d286-546aefd96261"
      },
      "source": [
        "#Getting the training datasets ready\n",
        "'''\n",
        "Important info:\n",
        "#training images = 60,000\n",
        "Each of the categories having roughly equal distribution: train_y.unique(return_counts=True)\n",
        "'''\n",
        "train_images_list = get_image_files(path/'training')\n",
        "train_x_list = [tensor(Image.open(img_path)) for img_path in train_images_list]\n",
        "train_y_list = [int(img_path.parent.name) for img_path in train_images_list]\n",
        "train_x = (torch.stack(train_x_list).float()/255).view(-1,28*28)\n",
        "train_y = tensor(train_y_list).view(-1,1)\n",
        "\n",
        "train_x.shape, train_y.shape"
      ],
      "execution_count": null,
      "outputs": [
        {
          "output_type": "execute_result",
          "data": {
            "text/plain": [
              "(torch.Size([60000, 784]), torch.Size([60000, 1]))"
            ]
          },
          "metadata": {
            "tags": []
          },
          "execution_count": 5
        }
      ]
    },
    {
      "cell_type": "code",
      "metadata": {
        "id": "FXWyRTLmj9Xw"
      },
      "source": [
        "train_dset = list(zip(train_x, train_y))\n"
      ],
      "execution_count": null,
      "outputs": []
    },
    {
      "cell_type": "code",
      "metadata": {
        "colab": {
          "base_uri": "https://localhost:8080/"
        },
        "id": "d4CjdMGGkCX4",
        "outputId": "8bf33c49-547b-46e7-aebb-c84dba63432a"
      },
      "source": [
        "#Getting the validation datasets ready\n",
        "'''\n",
        "Important info:\n",
        "#validation images = 10,000\n",
        "Each of the categories having roughly equal distribution: valid_y.unique(return_counts=True)\n",
        "'''\n",
        "valid_images_list = get_image_files(path/'testing')\n",
        "valid_x_list = [tensor(Image.open(img_path)) for img_path in valid_images_list]\n",
        "valid_y_list = [int(img_path.parent.name) for img_path in valid_images_list]\n",
        "valid_x = (torch.stack(valid_x_list).float()/255).view(-1,28*28)\n",
        "valid_y = tensor(valid_y_list).view(-1,1)\n",
        "\n",
        "valid_x.shape, valid_y.shape"
      ],
      "execution_count": null,
      "outputs": [
        {
          "output_type": "execute_result",
          "data": {
            "text/plain": [
              "(torch.Size([10000, 784]), torch.Size([10000, 1]))"
            ]
          },
          "metadata": {
            "tags": []
          },
          "execution_count": 7
        }
      ]
    },
    {
      "cell_type": "code",
      "metadata": {
        "id": "TOyEChhNuIPt"
      },
      "source": [
        "valid_dset = list(zip(valid_x, valid_y))"
      ],
      "execution_count": null,
      "outputs": []
    },
    {
      "cell_type": "code",
      "metadata": {
        "id": "J1lpYRqgkEpK"
      },
      "source": [
        "#dls = ImageDataLoaders.from_folder(path, train='training',valid='testing')\n",
        "#learn = cnn_learner(dls, resnet18, pretrained=False,\n",
        "#                    loss_func=F.cross_entropy, metrics=accuracy, n_out=10)\n",
        "#learn.fit_one_cycle(1, 0.1)"
      ],
      "execution_count": null,
      "outputs": []
    },
    {
      "cell_type": "markdown",
      "metadata": {
        "id": "sEFkLhLBQiww"
      },
      "source": [
        "### **Softmax Regression**"
      ]
    },
    {
      "cell_type": "markdown",
      "metadata": {
        "id": "Q9WJyw05Qj87"
      },
      "source": [
        "![image.png](data:image/png;base64,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)"
      ]
    },
    {
      "cell_type": "markdown",
      "metadata": {
        "id": "-bIMg65RQws5"
      },
      "source": [
        "We are going to start with some input data in the above picture our inputs have the dimension of (m x 4), that's why there are 4 nodes.\n",
        "\n",
        "Each feature/columns of the input is mapped to every node in the hidden layer making it a fully connected network. The nodes are floating point numbers referred to as logits and are the result of multiplying every input by a set of weights that are unique to the node and adding a bias.\n",
        "\n",
        "The output of X@w + b which is the logits then get transformed by being passed through a activation function usually a sigmoid function that takes a input and produces and output between 0 and 1, which represents a probability that that row of data has a particular label.\n",
        "\n",
        "In the final layer the node in the output layer with the highest probability is chosen and that is then the predicted class\n",
        "\n",
        "One iteration of the model training process for a network like this can be split up into two sections - the forward pass and backward pass.\n",
        "\n",
        "Forward Pass: Starts at the input layer and ends with the output layer and predicted class. The performance of the forward pass is evaluated through the calculation of a loss function that tells the model how well or bad it is doing. \n",
        "\n",
        "Backward Pass: Once we have the training loss, we use that to go back through the network and make adjustments to the parameters of all the hidden layers in order to reduce the loss and improve the prediction this optimization step is done with Gradient Descent. "
      ]
    },
    {
      "cell_type": "markdown",
      "metadata": {
        "id": "YDACUt0eQ0k5"
      },
      "source": [
        "Steps:\n",
        "\n",
        "1. Initialization\n",
        "2. Predict\n",
        "3. Loss\n",
        "4. Calculate gradient \n",
        "5. Update Parameters\n",
        "6. Back to step 2\n",
        "7. Stop"
      ]
    },
    {
      "cell_type": "markdown",
      "metadata": {
        "id": "gzdNVFBmQ9Ul"
      },
      "source": [
        "### **Read The Data**"
      ]
    },
    {
      "cell_type": "code",
      "metadata": {
        "colab": {
          "base_uri": "https://localhost:8080/"
        },
        "id": "JbKzPSVYkOAY",
        "outputId": "41dadc8d-96fe-4ea0-c989-21e54ca27b2b"
      },
      "source": [
        "X = torch.tensor(train_x, dtype=torch.float32)\n",
        "y = torch.tensor(train_y)"
      ],
      "execution_count": null,
      "outputs": [
        {
          "output_type": "stream",
          "text": [
            "/usr/local/lib/python3.7/dist-packages/ipykernel_launcher.py:1: UserWarning: To copy construct from a tensor, it is recommended to use sourceTensor.clone().detach() or sourceTensor.clone().detach().requires_grad_(True), rather than torch.tensor(sourceTensor).\n",
            "  \"\"\"Entry point for launching an IPython kernel.\n",
            "/usr/local/lib/python3.7/dist-packages/ipykernel_launcher.py:2: UserWarning: To copy construct from a tensor, it is recommended to use sourceTensor.clone().detach() or sourceTensor.clone().detach().requires_grad_(True), rather than torch.tensor(sourceTensor).\n",
            "  \n"
          ],
          "name": "stderr"
        }
      ]
    },
    {
      "cell_type": "code",
      "metadata": {
        "colab": {
          "base_uri": "https://localhost:8080/"
        },
        "id": "iS-y5lY9l6WE",
        "outputId": "43bf2f34-249d-4269-d24b-c5fcf0bee360"
      },
      "source": [
        "y.shape, y.unique()"
      ],
      "execution_count": null,
      "outputs": [
        {
          "output_type": "execute_result",
          "data": {
            "text/plain": [
              "(torch.Size([60000, 1]), tensor([0, 1, 2, 3, 4, 5, 6, 7, 8, 9]))"
            ]
          },
          "metadata": {
            "tags": []
          },
          "execution_count": 11
        }
      ]
    },
    {
      "cell_type": "markdown",
      "metadata": {
        "id": "ooLDPMX0HO-t"
      },
      "source": [
        "One-Hot Encode Class Labels:\n"
      ]
    },
    {
      "cell_type": "markdown",
      "metadata": {
        "id": "LWlYfpu0Hbks"
      },
      "source": [
        "$% <![CDATA[\n",
        "\\begin{equation*}\n",
        "y = \n",
        "\\begin{bmatrix}\n",
        "1 \\\\\n",
        "2 \\\\\n",
        "1 \\\\\n",
        "0 \\\\\n",
        "2 \\\\\n",
        "0\n",
        "\\end{bmatrix}\n",
        "\\implies\n",
        "\\begin{bmatrix}\n",
        "0 & 1 & 0 \\\\\n",
        "0 & 0 & 1 \\\\\n",
        "0 & 1 & 0 \\\\\n",
        "1 & 0 & 0 \\\\\n",
        "0 & 0 & 1 \\\\\n",
        "1 & 0 & 0\n",
        "\\end{bmatrix}\n",
        "\\end{equation*} %]]>$"
      ]
    },
    {
      "cell_type": "markdown",
      "metadata": {
        "id": "JCvoOmDRHjIY"
      },
      "source": [
        "This is an important technique for preprocessing certain categorical features in your training data as well. For this use case it just makes some computations easier."
      ]
    },
    {
      "cell_type": "markdown",
      "metadata": {
        "id": "Y9U2vwSkHlPg"
      },
      "source": [
        "Get the number of unique values in y.\n",
        "Create a tensor of zeros with shape (n_training_samples, n_classes).\n",
        "Use the scatter method to replace zeros in one_hot where there should be a 1 to represent that a given row is of the specific iris type.\n",
        "The first argument is the axis along which to work, which in this case is 1 for the second dimension (across rows).\n",
        "The second argument supplies indices that represent the column in each row that will get a 1. The trick here is that we already encoded the Iris labels with integers 0, 1, and 2, which happen to also specify valid columns.\n",
        "The last argument is the value(s) we want to impute, which in this case is just 1 for every row."
      ]
    },
    {
      "cell_type": "code",
      "metadata": {
        "id": "mjT04fhVkzE1"
      },
      "source": [
        "def one_hot_encode(vector):\n",
        "  classes = len(vector.unique())\n",
        "  one_hot = torch.zeros((vector.shape[0], classes)).type(torch.LongTensor)\n",
        "  return one_hot.scatter(1,y.type(torch.LongTensor), 1)\n",
        "\n",
        "y_one_hot = one_hot_encode(y)"
      ],
      "execution_count": null,
      "outputs": []
    },
    {
      "cell_type": "code",
      "metadata": {
        "id": "zOQwZ2cVtZyt"
      },
      "source": [
        "def one_hot(y, c):\n",
        "    \n",
        "    # y--> label/ground truth.\n",
        "    # c--> Number of classes.\n",
        "    \n",
        "    # A zero matrix of size (m, c)\n",
        "    y_hot = torch.zeros((len(y), c))\n",
        "    \n",
        "    # Putting 1 for column where the label is,\n",
        "    # Using multidimensional indexing.\n",
        "    y_hot[torch.arange(len(y)), y] = 1\n",
        "    \n",
        "    return y_hot"
      ],
      "execution_count": null,
      "outputs": []
    },
    {
      "cell_type": "code",
      "metadata": {
        "id": "ug6o7L88tfOb"
      },
      "source": [
        "y_one_hot2 = one_hot(y, 10)"
      ],
      "execution_count": null,
      "outputs": []
    },
    {
      "cell_type": "code",
      "metadata": {
        "colab": {
          "base_uri": "https://localhost:8080/"
        },
        "id": "g4PbKHhdk0Gf",
        "outputId": "a31d4d08-6656-4117-e976-a7137c5f5f0e"
      },
      "source": [
        "y_one_hot.shape, y_one_hot2.shape"
      ],
      "execution_count": null,
      "outputs": [
        {
          "output_type": "execute_result",
          "data": {
            "text/plain": [
              "(torch.Size([60000, 10]), torch.Size([60000, 10]))"
            ]
          },
          "metadata": {
            "tags": []
          },
          "execution_count": 15
        }
      ]
    },
    {
      "cell_type": "markdown",
      "metadata": {
        "id": "rXT7EsVbRFVE"
      },
      "source": [
        "### **Initialize Model Parameters**"
      ]
    },
    {
      "cell_type": "markdown",
      "metadata": {
        "id": "qz2zzjR8RJT5"
      },
      "source": [
        "Each example will be represented by a fixed length vector (1D tensor). Since each example in the raw dataset is 28x28 pixel image, we flatten the image and will treat it as a 1D vector with lenght 784. \n",
        "\n",
        "Since we are doing sofmax regression which is a multiclass classification our output will have 10 categories. Therefore the weights will be 784 x 10 matrix and the biases will be 1 x 10 row vector.\n",
        "\n",
        "We initialize our weights `w` with Guassian noise and out biases to 0s."
      ]
    },
    {
      "cell_type": "code",
      "metadata": {
        "colab": {
          "base_uri": "https://localhost:8080/"
        },
        "id": "0kS0h9ninlgc",
        "outputId": "aa298ae4-0055-4d5f-8161-12294d8cdd47"
      },
      "source": [
        "weights = torch.randn((784, 10))\n",
        "bias = torch.randn(10)\n",
        "weights.shape, bias.shape"
      ],
      "execution_count": null,
      "outputs": [
        {
          "output_type": "execute_result",
          "data": {
            "text/plain": [
              "(torch.Size([784, 10]), torch.Size([10]))"
            ]
          },
          "metadata": {
            "tags": []
          },
          "execution_count": 16
        }
      ]
    },
    {
      "cell_type": "markdown",
      "metadata": {
        "id": "REKc0UlmRQj9"
      },
      "source": [
        "### **Define the Softmax Operations**\n"
      ]
    },
    {
      "cell_type": "markdown",
      "metadata": {
        "id": "GQqo7_teRhIh"
      },
      "source": [
        "Before we implement the softmax model, lets highlight how the sum operator can work along specific dimensions of a tensor:"
      ]
    },
    {
      "cell_type": "code",
      "metadata": {
        "id": "LPLTwTuv_Fjn"
      },
      "source": [
        "#X = torch.tensor([[1.0,2.0,3.0], [4.0,5.0,6.0]])\n",
        "#X.sum(), X.sum(0), X.sum(1), X.sum(0, keepdim=True), X.sum(1,keepdim=True)"
      ],
      "execution_count": null,
      "outputs": []
    },
    {
      "cell_type": "code",
      "metadata": {
        "id": "97ona0P5hoFm"
      },
      "source": [
        "#X.shape, X.sum().shape, X.sum(0).shape, X.sum(0, keepdim=True).shape, X.sum(1).shape, X.sum(1,keepdim=True).shape"
      ],
      "execution_count": null,
      "outputs": []
    },
    {
      "cell_type": "markdown",
      "metadata": {
        "id": "Dq2YwwfDRmZK"
      },
      "source": [
        "Time to implement the softmax operation, which consists of 3 steps:\n",
        "1. Exponentiate each term\n",
        "2. Sum over each row to get the normalization constant for each example\n",
        "3. Divide each row by its normalization constant, ensuring that the result\n",
        "sums to 1. \n",
        "\n",
        "$\\mathrm{softmax}(\\mathbf{X})_{ij} = \\frac{\\exp(\\mathbf{X}_{ij})}{\\sum_k \\exp(\\mathbf{X}_{ik})}.$\n",
        "\n",
        "The denominator is the normalization constant aka the parition function."
      ]
    },
    {
      "cell_type": "code",
      "metadata": {
        "id": "P4z_LmOjoiqZ"
      },
      "source": [
        "def softmax(X):\n",
        "  exps = torch.exp(X)\n",
        "  partition = exps.sum(1, keepdim=True)\n",
        "  return exps / partition"
      ],
      "execution_count": null,
      "outputs": []
    },
    {
      "cell_type": "markdown",
      "metadata": {
        "id": "tZc0ZA88Rq67"
      },
      "source": [
        "### **Defining The Model**"
      ]
    },
    {
      "cell_type": "markdown",
      "metadata": {
        "id": "Dp4c_GWuOSEZ"
      },
      "source": [
        "Linear Model\n",
        "The first step of the model requires multiplying each m rows (training examples) of the dataset by a weight matrix with n rows and k columns, where n is the number of columns in your dataset (features) and k is the number of unique classes/labels you’ll want to predict. In addition to the weight matrix we’ll add a bias term to each column of the result.\n",
        "\n",
        "These operations are implementing this equation: \n",
        "Z\n",
        "=\n",
        "X\n",
        "W\n",
        "+\n",
        "b\n",
        "Where,"
      ]
    },
    {
      "cell_type": "markdown",
      "metadata": {
        "id": "ynCAjxFcOR2m"
      },
      "source": [
        "$% <![CDATA[\n",
        "\\begin{equation*}\n",
        "X = \n",
        "\\begin{bmatrix}\n",
        "x_{0,0} & x_{0,1} & \\cdots & x_{0,n} \\\\\n",
        "x_{1,0} & x_{1,1} & \\cdots & x_{1,n} \\\\\n",
        "\\vdots  & \\vdots  & \\ddots & \\vdots \\\\\n",
        "x_{m,0} & x_{m,1} & \\cdots & x_{m,n}\n",
        "\\end{bmatrix}\n",
        "\\:\\:W =\n",
        "\\begin{bmatrix}\n",
        "w_{0,0} & w_{0,1} & \\cdots & w_{0,k} \\\\\n",
        "w_{1,0} & w_{1,1} & \\cdots & w_{1,k} \\\\\n",
        "\\vdots  & \\vdots  & \\cdots & \\vdots \\\\\n",
        "w_{n,0} & w_{n,1} & \\cdots & w_{n,k}\n",
        "\\end{bmatrix}\n",
        "\\end{equation*} %]]>$"
      ]
    },
    {
      "cell_type": "markdown",
      "metadata": {
        "id": "aj-uFvSlORgD"
      },
      "source": [
        "$% <![CDATA[\n",
        "\\begin{equation*}\n",
        "b = \n",
        "\\begin{bmatrix}\n",
        "b_{0} & b_{1} & \\cdots & b_{k}\n",
        "\\end{bmatrix}\n",
        "\\:\\:Z =\n",
        "\\begin{bmatrix}\n",
        "z_{0,0} & z_{0,1} & \\cdots & z_{0,k} \\\\\n",
        "z_{1,0} & z_{1,1} & \\cdots & z_{1,k} \\\\\n",
        "\\vdots  & \\vdots  & \\ddots & \\vdots \\\\\n",
        "z_{m,0} & z_{m,1} & \\cdots & z_{m,k}\n",
        "\\end{bmatrix}\n",
        "\\end{equation*} %]]>$"
      ]
    },
    {
      "cell_type": "markdown",
      "metadata": {
        "id": "E7_88UIURums"
      },
      "source": [
        "Now that we have defined the sofmat operation, we can implement the softmax regression model:"
      ]
    },
    {
      "cell_type": "markdown",
      "metadata": {
        "id": "U8e-niweOp3h"
      },
      "source": [
        "In logistic regression terms, this resulting \n",
        "Z\n",
        " is a matrix of logits, where each \n",
        "z\n",
        "i\n",
        ",\n",
        "j\n",
        " is the logit for the \n",
        "j\n",
        "t\n",
        "h\n",
        " label of the \n",
        "i\n",
        "t\n",
        "h\n",
        " training example.\n",
        "\n",
        "To put these things in terms of the Iris dataset, our n will be 4 for the sepal length, sepal width, petal length, and petal width features. k is 3 for for the Setosa, Versicolour, and Virginica classes. And although there’s 150 total observations/rows, our training size m will be (somewhat arbitrarily) 120, or 80% of the data."
      ]
    },
    {
      "cell_type": "code",
      "metadata": {
        "id": "RlcAl9MIotPM"
      },
      "source": [
        "def forward_pass(x, w, b):\n",
        "  Z = torch.matmul(x,w) + bias\n",
        "  A = softmax(Z)\n",
        "  return A\n",
        "\n",
        "A = forward_pass(X, weights, bias)"
      ],
      "execution_count": null,
      "outputs": []
    },
    {
      "cell_type": "code",
      "metadata": {
        "colab": {
          "base_uri": "https://localhost:8080/"
        },
        "id": "f8zwcn8YwM0g",
        "outputId": "6bf042ab-d4ef-4eef-ede1-0616457af4e8"
      },
      "source": [
        "A.shape"
      ],
      "execution_count": null,
      "outputs": [
        {
          "output_type": "execute_result",
          "data": {
            "text/plain": [
              "torch.Size([60000, 10])"
            ]
          },
          "metadata": {
            "tags": []
          },
          "execution_count": 21
        }
      ]
    },
    {
      "cell_type": "code",
      "metadata": {
        "colab": {
          "base_uri": "https://localhost:8080/"
        },
        "id": "etOdqN1L1vCS",
        "outputId": "754a8b2a-7560-411f-e5df-7d593b61c180"
      },
      "source": [
        "A.shape, X.shape, y_one_hot.shape"
      ],
      "execution_count": null,
      "outputs": [
        {
          "output_type": "execute_result",
          "data": {
            "text/plain": [
              "(torch.Size([60000, 10]), torch.Size([60000, 784]), torch.Size([60000, 10]))"
            ]
          },
          "metadata": {
            "tags": []
          },
          "execution_count": 22
        }
      ]
    },
    {
      "cell_type": "markdown",
      "metadata": {
        "id": "ggN5bllmR5ez"
      },
      "source": [
        "\n",
        "\n",
        "### **Calculate the Gradients**"
      ]
    },
    {
      "cell_type": "markdown",
      "metadata": {
        "id": "HyVAmnWYH9sl"
      },
      "source": [
        "In order to build a model that can make accuratte predictions, we need to find out what impact each paramater has on the average loss. With that information we can iteratively adjust the parameters so that the loss gets smaller and smaller i.e. we want to find the parameters that minimize the cost function, the algorithm for doing this is called gradient descent."
      ]
    },
    {
      "cell_type": "markdown",
      "metadata": {
        "id": "JkTAbGWVIbYB"
      },
      "source": [
        "We start by initializing ´weights´ and ´biases´ randomly since these random values will perfom very poorly we need to perform the following steps at the end of each iteration:\n",
        "\n",
        "1. Get the gradient of each model parameter.\n",
        "  - The gradient is the partial derivative of the parameter at its current value\n",
        "    with respect to the cost function at it's current value.\n",
        "  - The algorithm for computing the gradients is called backpropagation\n",
        "\n",
        "2. Update each model parameter in the opposite direction of its gradient.\n",
        "  - The gradient $g$ is a measure of the impact that a parameter has on the cost function $g>0$ implies that the cost/loss is increasing and $g<0$ means that it's decreasing.\n",
        "  - The learning rate $\\alpha$ is a scalar value that we multiply the gradient with during our update step to determine the step size in our parameter update.\n",
        "  - The goal is to get as close to the global minimum of the cost function as possible:"
      ]
    },
    {
      "cell_type": "markdown",
      "metadata": {
        "id": "oP5TXNk02MPM"
      },
      "source": [
        "![image.png](data:image/png;base64,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)"
      ]
    },
    {
      "cell_type": "markdown",
      "metadata": {
        "id": "YPlDryNQ2OsU"
      },
      "source": [
        "The matrix of gradients of all the weights:"
      ]
    },
    {
      "cell_type": "markdown",
      "metadata": {
        "id": "5eX3IUa0IRRl"
      },
      "source": [
        "$% <![CDATA[\n",
        "\\nabla (W) =\n",
        "\\begin{bmatrix}\n",
        "\\nabla (w_{0,0}) & \\nabla (w_{0,1}) & \\cdots & \\nabla (w_{0,k}) \\\\\n",
        "\\nabla (w_{1,0}) & \\nabla (w_{1,1}) & \\cdots & \\nabla (w_{1,k}) \\\\\n",
        "\\vdots  & \\vdots  & \\cdots & \\vdots \\\\\n",
        "\\nabla (w_{n,0}) & \\nabla (w_{n,1}) & \\cdots & \\nabla (w_{n,k})\n",
        "\\end{bmatrix}\n",
        "\\:\\:and\n",
        "\\\\ %]]>$"
      ]
    },
    {
      "cell_type": "markdown",
      "metadata": {
        "id": "_fU9sENU4QMb"
      },
      "source": [
        "Vector of the gradients of all the biases:"
      ]
    },
    {
      "cell_type": "markdown",
      "metadata": {
        "id": "KG1H0dbkH9ZZ"
      },
      "source": [
        "$% <![CDATA[\n",
        "\\nabla (b) = \n",
        "\\begin{bmatrix}\n",
        "\\nabla (b_{0}) & \\nabla (b_{1}) & \\cdots & \\nabla (b_{k})\n",
        "\\end{bmatrix} %]]>$"
      ]
    },
    {
      "cell_type": "markdown",
      "metadata": {
        "id": "ErNlswREIkj7"
      },
      "source": [
        "Where,"
      ]
    },
    {
      "cell_type": "markdown",
      "metadata": {
        "id": "psoDogGhIyJ3"
      },
      "source": [
        "$\\nabla (w_{f,l}) = \n",
        "[\\frac{1}{m} \\sum_{i=0}^{m} \\left( x_{i,f} * (y_{i, l} - a_{i, l}) \\right)] + [2 \\lambda * w_{f,l}]\n",
        "\\:\\:and$\n",
        "\n"
      ]
    },
    {
      "cell_type": "markdown",
      "metadata": {
        "id": "JiRTgzGo5nSb"
      },
      "source": [
        "$\\nabla (b_{l}) = \\frac{1}{m} \\sum_{i=0}^{m} \\left( y_{i, l} - a_{i, l} \\right)$"
      ]
    },
    {
      "cell_type": "markdown",
      "metadata": {
        "id": "kyfAJX_h4Vrt"
      },
      "source": [
        "$f$ is the feature index, $l$ is the class label index, and $i$ is the specific simple/observation index. Note: that $y$ in this equation is one-hot encoded and of shape (m,k) were k is the number of classes.\n",
        "\n",
        "The first term $\\nabla (w_{f,l})$ is the gradient with respect to the cross entropy function and the second term is the gradient with respect to the L2 regularization term $[2 \\lambda * w_{f,l}]$.\n",
        "\n"
      ]
    },
    {
      "cell_type": "markdown",
      "metadata": {
        "id": "SWtllPBZJH2W"
      },
      "source": [
        "The update step looks like this:"
      ]
    },
    {
      "cell_type": "markdown",
      "metadata": {
        "id": "oGg5BKhmJMO_"
      },
      "source": [
        "$% <![CDATA[\n",
        "W \\mathrel{-}=\n",
        "\\begin{bmatrix}\n",
        "\\alpha \\nabla (w_{0,0}) & \\alpha \\nabla (w_{0,1}) & \\cdots & \\alpha \\nabla (w_{0,k}) \\\\\n",
        "\\alpha \\nabla (w_{1,0}) & \\alpha \\nabla (w_{1,1}) & \\cdots & \\alpha \\nabla (w_{1,k}) \\\\\n",
        "\\vdots  & \\vdots  & \\cdots & \\vdots \\\\\n",
        "\\alpha \\nabla (w_{n,0}) & \\alpha \\nabla (w_{n,1}) & \\cdots & \\alpha \\nabla (w_{n,k})\n",
        "\\end{bmatrix}\n",
        "\\\\ %]]>$"
      ]
    },
    {
      "cell_type": "code",
      "metadata": {
        "id": "8kV9hb0co0Qu"
      },
      "source": [
        "lambda_param = 0.01\n",
        "lr = 0.01\n",
        "\n",
        "w_gradients = -torch.matmul(X.T, y_one_hot -A) / X.shape[0] + (2 * lambda_param * weights)\n",
        "b_gradients = -torch.mean(y_one_hot - A, axis=0)\n",
        "\n",
        "weights -= lr * w_gradients\n",
        "bias -= lr * b_gradients"
      ],
      "execution_count": null,
      "outputs": []
    },
    {
      "cell_type": "markdown",
      "metadata": {
        "id": "c9mVcYK5SOGH"
      },
      "source": [
        "### **Defining the Loss Function**"
      ]
    },
    {
      "cell_type": "markdown",
      "metadata": {
        "id": "qWory5WsSSDt"
      },
      "source": [
        "We are going to use the cross-entropy loss function which takes the negative log-likelihood of the predicted probability assigned to the true label.\n",
        "\n"
      ]
    },
    {
      "cell_type": "markdown",
      "metadata": {
        "id": "emNa66R1BCo6"
      },
      "source": [
        "The cost function or loss function is how we determine the perfomance of the model at the end of each forward pass in the training process.\n",
        "\n",
        "**Note**: Technically, the *loss* refers to the accuracy of a single observation prediction while the *cost* is the average loss of all m predictions."
      ]
    },
    {
      "cell_type": "markdown",
      "metadata": {
        "id": "R6hBE1c8SY4Q"
      },
      "source": [
        "$Cross\\:Entropy\\:Loss = -\\frac{1}{m}\\sum_{i=0}^{m} \\sum_{j=0}^{k} y_{i,j} \\cdot \\log (a_{i,j})$\n"
      ]
    },
    {
      "cell_type": "code",
      "metadata": {
        "id": "lI7-UwWZuukg"
      },
      "source": [
        "def cross_entropy_loss(y_one_hot, activations):\n",
        "  return -torch.mean(\n",
        "      torch.sum(\n",
        "          y_one_hot * torch.log(activations), axis=1\n",
        "      )\n",
        "  )"
      ],
      "execution_count": null,
      "outputs": []
    },
    {
      "cell_type": "markdown",
      "metadata": {
        "id": "NhhJJGC3L6lN"
      },
      "source": [
        "1. Multiply the one-hot labels by the log of the activations. It's important to note here that only one column per row in the product will be non-zero.\n",
        "2. Get the row-sums (axis=1) of the tensor in step 1.\n",
        "3. Return the negative mean of step 3. "
      ]
    },
    {
      "cell_type": "markdown",
      "metadata": {
        "id": "HyRS7-eVSb82"
      },
      "source": [
        "### **Define The Regularization**"
      ]
    },
    {
      "cell_type": "markdown",
      "metadata": {
        "id": "FJGnjcE3Be-5"
      },
      "source": [
        "**L2 Regularization**\n",
        "\n",
        "Regularization refer to methods that try to prevent overfitting in machine learning models- we can usually tell we are overfitting the data when training loss keeps going down but validation loss increases. "
      ]
    },
    {
      "cell_type": "markdown",
      "metadata": {
        "id": "Xcz6nS3ICPNS"
      },
      "source": [
        "*L2 Regularization* simply adds a term to the cost function intended to *penalize model complexity.* It looks like this:"
      ]
    },
    {
      "cell_type": "markdown",
      "metadata": {
        "id": "kzxrLe1bCgju"
      },
      "source": [
        "$L2\\:Regularization\\:Term\\:= \\big\\|W\\big\\|^{2} = \\sum_{i=0}^{n} \\sum_{j=0}^{k} w_{i,j}^2$"
      ]
    },
    {
      "cell_type": "markdown",
      "metadata": {
        "id": "8_Tkb1WgCn1V"
      },
      "source": [
        "We square every parameter $w$ in the weight matrix and take the sum. This is were the idea of penalizing complexity comes from - the sum gets bigger as the magnitude of the individual parameters or the number of them grows. Adding this term to the loss calculation has the effect of encouraging the model parameters towards zero. "
      ]
    },
    {
      "cell_type": "markdown",
      "metadata": {
        "id": "9ZpoGStXLNcJ"
      },
      "source": [
        "**Note:** In general, we want to pre-process the features in your dataset to be of the same scale, but this is especially important when using L2 regularization."
      ]
    },
    {
      "cell_type": "markdown",
      "metadata": {
        "id": "V_pILeruLNWv"
      },
      "source": [
        "$L2\\:Regularized\\:Loss = -\\frac{1}{m}\\sum_{i=0}^{m} \\sum_{j=0}^{k} y_{i,j} \\cdot \\log (a_{i,j}) + \\lambda \\sum_{i=0}^{n} \\sum_{j=0}^{k} w_{i,j}^2$"
      ]
    },
    {
      "cell_type": "markdown",
      "metadata": {
        "id": "FsCHJYALLhse"
      },
      "source": [
        "Where $λ≥0$ is a hyperparameter to be tuned and $λ=0$ is equivalent to vanilla Cross Entropy Loss."
      ]
    },
    {
      "cell_type": "code",
      "metadata": {
        "id": "5reCCYWrvpNM"
      },
      "source": [
        "l2_regularization = torch.sum(weights ** 2)\n",
        "lambda_param = 0.01\n",
        "loss = cross_entropy_loss(y_one_hot, A) + lambda_param * l2_regularization"
      ],
      "execution_count": null,
      "outputs": []
    },
    {
      "cell_type": "markdown",
      "metadata": {
        "id": "3oV8ZiC5SjRF"
      },
      "source": [
        "### **Classification Accuracy**"
      ]
    },
    {
      "cell_type": "code",
      "metadata": {
        "id": "5csmWQRD7YBU"
      },
      "source": [
        "test_predictions = torch.argmax(softmax(torch.mm(valid_x, weights) + bias), axis=1)"
      ],
      "execution_count": null,
      "outputs": []
    },
    {
      "cell_type": "code",
      "metadata": {
        "id": "WvBL0itY9Y74"
      },
      "source": [
        "# Calculate accuracy percentage between two lists\n",
        "def accuracy_metric(actual, predicted):\n",
        "\tcorrect = 0\n",
        "\tfor i in range(len(actual)):\n",
        "\t\tif actual[i] == predicted[i]:\n",
        "\t\t\tcorrect += 1\n",
        "\treturn correct / float(len(actual)) * 100.0"
      ],
      "execution_count": null,
      "outputs": []
    },
    {
      "cell_type": "code",
      "metadata": {
        "colab": {
          "base_uri": "https://localhost:8080/"
        },
        "id": "iSf9DGtr9fIq",
        "outputId": "6517f0d5-b876-4ae4-eba8-7315d48e7e88"
      },
      "source": [
        "accuracy_metric(valid_y, test_predictions)"
      ],
      "execution_count": null,
      "outputs": [
        {
          "output_type": "execute_result",
          "data": {
            "text/plain": [
              "14.799999999999999"
            ]
          },
          "metadata": {
            "tags": []
          },
          "execution_count": 56
        }
      ]
    },
    {
      "cell_type": "markdown",
      "metadata": {
        "id": "Ob4qvMsTSmRV"
      },
      "source": [
        "### **Training**"
      ]
    },
    {
      "cell_type": "code",
      "metadata": {
        "id": "NilOt8huVeWf"
      },
      "source": [
        "n_train = 60000"
      ],
      "execution_count": null,
      "outputs": []
    },
    {
      "cell_type": "code",
      "metadata": {
        "colab": {
          "base_uri": "https://localhost:8080/"
        },
        "id": "zYlC7-givpeO",
        "outputId": "00160152-fe06-4854-9d78-6e5e75686e33"
      },
      "source": [
        "n_iterations = 100\n",
        "learning_rate = 0.01\n",
        "lambda_param = 0.01\n",
        "for i in range(1, n_iterations + 1):\n",
        "\n",
        "    Z = torch.mm(X, weights) + bias\n",
        "    A = softmax(Z)\n",
        "    l2_regularization = torch.sum(weights ** 2)\n",
        "    loss = cross_entropy_loss(y_one_hot, A) + lambda_param * l2_regularization\n",
        "    w_gradients = -torch.mm(X.transpose(0, 1), y_one_hot - A) / n_train + (2 * lambda_param * weights)\n",
        "    b_gradients = -torch.mean(y_one_hot - A, axis=0)\n",
        "\n",
        "    weights -= learning_rate * w_gradients\n",
        "    bias -= learning_rate * b_gradients\n",
        "\n",
        "    if i == 1 or i % 25 == 0:\n",
        "        print(\"Loss at iteration {}: {}\".format(i, loss))\n",
        "\n",
        "test_predictions = torch.argmax(softmax(torch.mm(valid_x, weights) + bias), axis=1)\n",
        "\n",
        "test_accuracy = accuracy_metric(valid_y, test_predictions)\n",
        "print(\"\\nFinal Test Accuracy: {}\".format(test_accuracy))"
      ],
      "execution_count": null,
      "outputs": [
        {
          "output_type": "stream",
          "text": [
            "Loss at iteration 1: 85.1719970703125\n",
            "Loss at iteration 25: 83.82386779785156\n",
            "Loss at iteration 50: 82.50579833984375\n",
            "Loss at iteration 75: 81.2599868774414\n",
            "Loss at iteration 100: 80.07752227783203\n",
            "\n",
            "Final Test Accuracy: 17.91\n"
          ],
          "name": "stdout"
        }
      ]
    },
    {
      "cell_type": "code",
      "metadata": {
        "id": "NE0qNSNMgUbi"
      },
      "source": [
        "Z = torch.mm(X, weights) + bias\n",
        "A = softmax(Z)\n",
        "l2_regularization = torch.sum(weights ** 2)\n",
        "loss = cross_entropy_loss(y_one_hot, A)\n",
        "loss"
      ],
      "execution_count": null,
      "outputs": []
    },
    {
      "cell_type": "code",
      "metadata": {
        "id": "D2iG1Chzgcvw"
      },
      "source": [
        "Z = torch.matmul(train_x, weights) + bias\n",
        "Z"
      ],
      "execution_count": null,
      "outputs": []
    },
    {
      "cell_type": "markdown",
      "metadata": {
        "id": "oqOqURnyP2hr"
      },
      "source": [
        "\n",
        "\n",
        "All PyTorch Tensors have a requires_grad attribute that defaults to False. If we set this property to True when the tensor gets created, PyTorch will keep track of every computation we perform with it as a graph. Calling backward() on any tensor that descends from the original will propagate gradients all the way back up the graph, populating the Tensor.grad attribute for all parent tensors."
      ]
    },
    {
      "cell_type": "code",
      "metadata": {
        "id": "yO3KlJT7aqt8"
      },
      "source": [
        "weights = torch.randn((784, 10), requires_grad=True)\n",
        "bias = torch.randn(10, requires_grad=True)"
      ],
      "execution_count": null,
      "outputs": []
    },
    {
      "cell_type": "code",
      "metadata": {
        "colab": {
          "base_uri": "https://localhost:8080/"
        },
        "id": "yDo21iOGv-8A",
        "outputId": "73ac4314-7575-4f1d-a5e4-9a2834fcc767"
      },
      "source": [
        "n_iterations = 250\n",
        "learning_rate = 0.1\n",
        "lambda_param = 0.01\n",
        "for i in range(1, n_iterations + 1):\n",
        "    \n",
        "    Z = torch.mm(X, weights) + bias\n",
        "    A = softmax(Z)\n",
        "    l2_regularization = torch.sum(weights ** 2)\n",
        "    loss = cross_entropy_loss(y_one_hot, A) + lambda_param * l2_regularization\n",
        "\n",
        "    if weights.grad is not None:\n",
        "        weights.grad.zero_()  # 1\n",
        "    if bias.grad is not None:\n",
        "        bias.grad.zero_()\n",
        "\n",
        "    loss.backward()  # 2\n",
        "    \n",
        "    with torch.no_grad():  # 3\n",
        "        weights -= learning_rate * weights.grad\n",
        "        bias -= learning_rate * bias.grad\n",
        "    \n",
        "    if i == 1 or i % 25 == 0:\n",
        "        print(\"Loss at iteration {}: {}\".format(i, loss))\n",
        "\n",
        "test_predictions = torch.argmax(softmax(torch.mm(valid_x, weights) + bias), axis=1)\n",
        "\n",
        "test_accuracy = accuracy_metric(valid_y, test_predictions)\n",
        "print(\"\\nFinal Test Accuracy: {}\".format(test_accuracy))"
      ],
      "execution_count": null,
      "outputs": [
        {
          "output_type": "stream",
          "text": [
            "Loss at iteration 1: 29.02509117126465\n",
            "Loss at iteration 25: 26.34192657470703\n",
            "Loss at iteration 50: 23.82099151611328\n",
            "Loss at iteration 75: 21.550569534301758\n",
            "Loss at iteration 100: 19.504758834838867\n",
            "Loss at iteration 125: 17.66069221496582\n",
            "Loss at iteration 150: 15.998042106628418\n",
            "Loss at iteration 175: 14.498688697814941\n",
            "Loss at iteration 200: 13.146411895751953\n",
            "Loss at iteration 225: 11.926678657531738\n",
            "Loss at iteration 250: 10.826428413391113\n",
            "\n",
            "Final Test Accuracy: 80.9\n"
          ],
          "name": "stdout"
        }
      ]
    },
    {
      "cell_type": "markdown",
      "metadata": {
        "id": "x3obhF_YSLUB"
      },
      "source": [
        "Note: When we tell PyTorch to keep track of gradients they will keep acucmalating as a total sum every time we call backward(). We don't want this since we only ever want the gradients from the last step. Therefore we need to zero out the gradients for every tensor after we've updated them with ´tensor.grad.zero_(). (PyTorch uses the convetion of ending method names with an underscore for in-place changes.)\n",
        "\n",
        "\n",
        "1. Zero out the gradients before calculating them again.\n",
        "2. Calculate upstream gradients.\n",
        "3. In order to not disrupt the computation graph that we rely on for gradient calculations, we need to update both ´weights´ and ´bias´ inside of a no_grad context manager.\n"
      ]
    },
    {
      "cell_type": "markdown",
      "metadata": {
        "id": "c3_K1nikSvBi"
      },
      "source": [
        "### **Neural Network**\n"
      ]
    },
    {
      "cell_type": "markdown",
      "metadata": {
        "id": "riZPIQaiNy4U"
      },
      "source": [
        "We are going to need a model, an activation function, an optimizer, and a loss function."
      ]
    },
    {
      "cell_type": "markdown",
      "metadata": {
        "id": "dhn75n12dlRD"
      },
      "source": [
        "Our model will consits of:\n",
        "\n",
        "1. Input layer: Here we will input our dataset, consisting of 28x28 pixel images of numbers 0-9. We are going to want to flatten the input into a rank 1 tensor with 28 x 28 = 784 elements. This means that the input layer will have 784 nodes. \n",
        "\n",
        "2. Hidden layer 1: In this layer, we will reduce the number of nodes from 784 coming from the input layer to 128 nodes.\n",
        "\n",
        "3. Here we will go down to 64 nodes, from the 128 nodes in the previous layer.\n",
        "\n",
        "4. Output layer: In the last layer we will reduce the input coming from the 64 nodes into 10 nodes that correspond to the 10 labels for our data. The labels will be received in the form of a rank-1 tensor with 10 elements corresponding to the numbers 0-9, where one of the elements will be 1 and the rest 0. The 1 will correspond to one of the numbers between 0-9."
      ]
    },
    {
      "cell_type": "markdown",
      "metadata": {
        "id": "ftDYfUxuezpB"
      },
      "source": [
        "Note: The number of nodes chosen is somewhat arbitrary and based on what others recommend in order to avoid overfitting and underfitting the data. "
      ]
    },
    {
      "cell_type": "markdown",
      "metadata": {
        "id": "d1lI1p5OfRrz"
      },
      "source": [
        "Steps:\n",
        "\n",
        "1. Initialization\n",
        "2. Feedforward (predict)\n",
        "3. Loss\n",
        "4. Backpropagation (gradient) \n",
        "5. Step (update)\n",
        "6. Back to step 2\n",
        "7. Stop"
      ]
    },
    {
      "cell_type": "markdown",
      "metadata": {
        "id": "geNRxEGHf1r9"
      },
      "source": [
        "#### **Initialization**"
      ]
    },
    {
      "cell_type": "markdown",
      "metadata": {
        "id": "_ThULsHKf2-y"
      },
      "source": [
        "We want to initialize the neural network class by the init function:"
      ]
    },
    {
      "cell_type": "markdown",
      "metadata": {
        "id": "H7vIaGBfgX5Y"
      },
      "source": [
        "When we call the initialization() function we are preparing mxn matrices that are fit for matrix multiplication to be used in the forward pass of our network. Since we want to shrink the number of nodes as the layers increase we use the rules of matrix multiplication to achieve this. The dot product operation for two matrices: M1 and M2 only works if the numbers of rows in M1 (m1) matches the number of columns in M2 (n). I.e. m x n dot m x n = n x n matrix. \n",
        "\n",
        "Therefore for the operation: w1@x + b we will need to initialize the first set of weights to be 128 x 784 to dot with X (784 x 128) (128 is the batch size).\n",
        "\n",
        "The output Z1 will be of dimenations 128 x 128 thus W2 will be 128 x 64\n",
        "\n",
        "The output Z2 will be of dimensions 128 x 64 thus W3 will be 64 x 10."
      ]
    },
    {
      "cell_type": "code",
      "metadata": {
        "id": "r3ZmFnYgx-MK"
      },
      "source": [
        "train_x.shape"
      ],
      "execution_count": null,
      "outputs": []
    },
    {
      "cell_type": "markdown",
      "metadata": {
        "id": "V9Nb64xPlLCf"
      },
      "source": [
        "#### **Feedforward Pass**"
      ]
    },
    {
      "cell_type": "markdown",
      "metadata": {
        "id": "XHGt-5zLxcKc"
      },
      "source": [
        "In this step we are doing the linear predictions w@x + b and passing our outputs through the activation functions to ultimately get a probabily of each class, so that we can measure how well the forward pass performs:"
      ]
    },
    {
      "cell_type": "markdown",
      "metadata": {
        "id": "9xVVq4Q5yt28"
      },
      "source": [
        "We use the two following activation functions in this network:\n",
        "\n",
        "1. Sigmoid activation:\n",
        "2. Softmax activation:"
      ]
    },
    {
      "cell_type": "markdown",
      "metadata": {
        "id": "-hb8EYjvy10W"
      },
      "source": [
        "#### **Backpropagation**"
      ]
    },
    {
      "cell_type": "markdown",
      "metadata": {
        "id": "VpAKOUIZ1Occ"
      },
      "source": [
        "In order to get the backward pass to right all the shapes need to correct for all the operations:\n"
      ]
    },
    {
      "cell_type": "markdown",
      "metadata": {
        "id": "ujjcriUXCd7y"
      },
      "source": [
        "W3 Update: The update for W3 is calculated by subtracting the true labels from the predicted labels. Our loss function is the sum of squared differences and we have taken it's derivative (that's why we are multiplying by 2 and not raising it to 2) we take this product with the derivative of the softmax function Z3. Then last step is to take the outer product of the error with the activations A2.\n",
        "\n",
        "W2 Update: Next up is updating W2. There's a slight mismatch in shapes as W3 has the shape (10, 64) and the error is also (10,64). Thus we take the transpose of W3 to make the shapes align for the dot product. The result is the Hadamard product with the outcome of the derivative of the sigmoid function Z2. The last step is to take the outer product of the error and the activations A1.\n",
        "\n",
        "W1 Update: Next up is updating W1. This is essentially the same as the W2 except we are using other parameters. "
      ]
    },
    {
      "cell_type": "markdown",
      "metadata": {
        "id": "O4H8jZ7qClEd"
      },
      "source": [
        "#### **Training with Stochastic Gradient Descent (SGD)**"
      ]
    },
    {
      "cell_type": "markdown",
      "metadata": {
        "id": "byVdp8hkQC2D"
      },
      "source": [
        "Now that we have a forward and backward pass, we need a way to use them. We can do this by making a training loop and use Stochastic Gradient Descent as the optimizer to update our parameters of the network.\n",
        "\n",
        "We have two main loops in the function: One for the number of epochs, which is the number of times we run through the dataset and train our parameters, and the second loop is for running through each observation one by one. \n",
        "\n",
        "For each observation, we do a forward pass with `x`, which is one image in an 1 dimensional tensor with the length of 784 (28x28). The ´output´ of the forward pass isued along with ´y´, which are the one-hot encoded labels, in the backward pass. This gives us a dictionary of updates to our weights in the network. "
      ]
    },
    {
      "cell_type": "markdown",
      "metadata": {
        "id": "sMm33HWJkv1o"
      },
      "source": [
        "Training process can be simplified as a loop **forward pass -> compute loss -> back propagation -> update weights and bias -> forward pass**\n"
      ]
    },
    {
      "cell_type": "code",
      "metadata": {
        "id": "30h_7TD6p6-X"
      },
      "source": [
        "train_x.shape"
      ],
      "execution_count": null,
      "outputs": []
    },
    {
      "cell_type": "code",
      "metadata": {
        "id": "MnYDxrVTS2g5"
      },
      "source": [
        ""
      ],
      "execution_count": null,
      "outputs": []
    }
  ]
}