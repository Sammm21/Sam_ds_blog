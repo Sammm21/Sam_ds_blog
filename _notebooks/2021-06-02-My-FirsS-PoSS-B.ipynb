{
 "cells": [
  {
   "cell_type": "code",
   "execution_count": null,
   "metadata": {},
   "outputs": [],
   "source": [
    "FIRST BLOSS POST B..."
   ]
  },
  {
   "cell_type": "markdown",
   "metadata": {},
   "source": [
    "Welcome to my Data Science Blog, B. I guess I have to first explain why I compulsively refer to \"B\" at the end of my sentences. It's probably not OCD but has a more benign and comical origin story, albeit maybe appearing as somewhat hateful to the uninitiated, but believe me B, it's all in good harmless fun. \n",
    "\n",
    "Since I want this to be a neggflix blog and not bloggbusser blog I feel explain myself. So B is a term coming from a podcast (a.k.a pawlmcast) called The Fighter And The Kid. Many moons ago I used be Joe Rogan bro. Christ, it was probably back in 2011 or 2012, I was living in Santa Barbara, CA finishing up my Bachlors degree and chilling at home, were I stumbled across the Joe Rogan Experience. \n",
    "\n",
    "One thing led to another and soon I was emersed into the pawlmcast world of JRE and friends. And it's the friends part that important B. Cause he had his buddies, and two of these were Brenda Schlob and Bryan Cranston and they launched a pawlmcast called The Fighter and The Kid. \n",
    "\n",
    "Starting out as a fan, I soon became disillusioned as it dawned on me the character of these people that I was listening to so regurarly didn't vibe with my own. So I found my way to the TFATK subreddit and found my people. The use of B, malpropisms, and misspellings of simple words is the jargon of that subreddit and its aimed to make fun of TFATK, and that's why I use B, B. Also there are a million Data Science blogs out there and not imbueing this one with my personality and what I think is funny will make writing it just boring asf, and more akin to a school assignment than something intended to aid my learning process. \n",
    "\n",
    "Anyway let's get into Deeeeeeep Learning, B. "
   ]
  }
 ],
 "metadata": {
  "kernelspec": {
   "display_name": "Python 3",
   "language": "python",
   "name": "python3"
  },
  "language_info": {
   "codemirror_mode": {
    "name": "ipython",
    "version": 3
   },
   "file_extension": ".py",
   "mimetype": "text/x-python",
   "name": "python",
   "nbconvert_exporter": "python",
   "pygments_lexer": "ipython3",
   "version": "3.7.6"
  }
 },
 "nbformat": 4,
 "nbformat_minor": 4
}
