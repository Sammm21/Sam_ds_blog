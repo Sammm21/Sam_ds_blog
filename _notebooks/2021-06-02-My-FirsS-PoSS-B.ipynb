{
 "cells": [
  {
   "cell_type": "code",
   "execution_count": null,
   "metadata": {},
   "outputs": [],
   "source": [
    "FIRST BLOSS POST B..."
   ]
  },
  {
   "cell_type": "markdown",
   "metadata": {},
   "source": [
    "Welcome to my Data Science Blog, B.\n",
    "\n",
    "Since I want this to be a netfliggs blog and not bloggbusser blog I hope you will enjoy the code that I share, it will start out pretty basic but I hope to be able to share some cool projects over the summer. I'm going to be mainly working in PyTorch were I will aim to build a range of different models from scratch and then later on implement some cool papers that I find interesting. \n",
    "\n",
    "So without any further ado let's get into Deeeeeeep Learning, B. "
   ]
  }
 ],
 "metadata": {
  "kernelspec": {
   "display_name": "Python 3",
   "language": "python",
   "name": "python3"
  },
  "language_info": {
   "codemirror_mode": {
    "name": "ipython",
    "version": 3
   },
   "file_extension": ".py",
   "mimetype": "text/x-python",
   "name": "python",
   "nbconvert_exporter": "python",
   "pygments_lexer": "ipython3",
   "version": "3.7.6"
  }
 },
 "nbformat": 4,
 "nbformat_minor": 4
}
